{
 "cells": [
  {
   "cell_type": "code",
   "execution_count": 7,
   "metadata": {},
   "outputs": [],
   "source": [
    "class Solution:\n",
    "    def numSubarraysWithSum(self, A, S):\n",
    "        \"\"\"\n",
    "        :type A: List[int]\n",
    "        :type S: int\n",
    "        :rtype: int\n",
    "        \"\"\"\n",
    "        ret = 0\n",
    "        zero_count = 0\n",
    "        zero_count_list = []\n",
    "        # Add a None for iteration ending\n",
    "        A.append(None)\n",
    "        for num in A:\n",
    "            if 0 == num:\n",
    "                zero_count += 1\n",
    "                continue\n",
    "\n",
    "            zero_count_list.append(zero_count)\n",
    "            zero_count = 0\n",
    "\n",
    "        if 0 == S:\n",
    "            # calculate the combination of non-empty subarray of each sequential zero\n",
    "            ret = sum(((zero_count + 1) * zero_count) for zero_count in zero_count_list) // 2\n",
    "        else:\n",
    "            # we could choose (0~count) zero number for each sequential zero to extending the fixed subarray for the specified sum\n",
    "            combination_list = [count + 1 for count in zero_count_list]\n",
    "            index_range = range(len(combination_list) - S)\n",
    "            ret = sum(combination_list[index] * combination_list[index + S] for index in index_range)\n",
    "\n",
    "        return ret\n"
   ]
  },
  {
   "cell_type": "code",
   "execution_count": 9,
   "metadata": {},
   "outputs": [
    {
     "name": "stdout",
     "output_type": "stream",
     "text": [
      "[4, [[1, 0, 1, 0, 1, None], 2]] passed\n",
      "[12, [[0, 1, 1, 0, 1, 1, 1, 0, 1, 0, 0, None], 2]] passed\n",
      "[15, [[0, 0, 0, 0, 0, None], 0]] passed\n"
     ]
    }
   ],
   "source": [
    "test_case_list = [\n",
    "    [4, [[1,0,1,0,1], 2]],\n",
    "    [12, [[0,1,1,0,1,1,1,0,1,0,0], 2]],\n",
    "    [15, [[0,0,0,0,0], 0]]\n",
    "]\n",
    "\n",
    "worker = Solution()\n",
    "for test_case in test_case_list:\n",
    "    assert test_case[0] == worker.numSubarraysWithSum(test_case[1][0], test_case[1][1])\n",
    "    print(str(test_case), 'passed')"
   ]
  },
  {
   "cell_type": "code",
   "execution_count": null,
   "metadata": {},
   "outputs": [],
   "source": []
  }
 ],
 "metadata": {
  "kernelspec": {
   "display_name": "Python 3",
   "language": "python",
   "name": "python3"
  },
  "language_info": {
   "codemirror_mode": {
    "name": "ipython",
    "version": 3
   },
   "file_extension": ".py",
   "mimetype": "text/x-python",
   "name": "python",
   "nbconvert_exporter": "python",
   "pygments_lexer": "ipython3",
   "version": "3.7.0"
  }
 },
 "nbformat": 4,
 "nbformat_minor": 2
}
