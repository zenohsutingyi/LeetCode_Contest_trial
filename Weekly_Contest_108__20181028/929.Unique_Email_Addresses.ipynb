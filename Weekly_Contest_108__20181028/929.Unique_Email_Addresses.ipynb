{
 "cells": [
  {
   "cell_type": "code",
   "execution_count": 1,
   "metadata": {},
   "outputs": [],
   "source": [
    "class Solution:\n",
    "    def processAddress(self, raw_address):\n",
    "        local_name, domain_name = raw_address.split('@')[:2]\n",
    "        local_name = local_name.split('+')[0].replace('.', '')\n",
    "\n",
    "        return \"%s@%s\" % (local_name, domain_name)\n",
    "\n",
    "    def numUniqueEmails(self, emails):\n",
    "        \"\"\"\n",
    "        :type emails: List[str]\n",
    "        :rtype: int\n",
    "        \"\"\"\n",
    "        ret = set()\n",
    "        for raw_address in emails:\n",
    "            proccessed_address = self.processAddress(raw_address)\n",
    "            ret.add(proccessed_address)\n",
    "\n",
    "        return len(ret)\n"
   ]
  },
  {
   "cell_type": "code",
   "execution_count": 4,
   "metadata": {},
   "outputs": [
    {
     "name": "stdout",
     "output_type": "stream",
     "text": [
      "[2, ['test.email+alex@leetcode.com', 'test.e.mail+bob.cathy@leetcode.com', 'testemail+david@lee.tcode.com']] passed\n",
      "[2, ['123@abc.xyz', '12@3abc.xyz']] passed\n"
     ]
    }
   ],
   "source": [
    "test_case_list = [\n",
    "    [2, [\"test.email+alex@leetcode.com\",\"test.e.mail+bob.cathy@leetcode.com\",\"testemail+david@lee.tcode.com\"]],\n",
    "    [2, [\"123@abc.xyz\",\"12@3abc.xyz\"]]\n",
    "]\n",
    "\n",
    "worker = Solution()\n",
    "for test_case in test_case_list:\n",
    "    assert test_case[0] == worker.numUniqueEmails(test_case[1])\n",
    "    print(str(test_case), 'passed')"
   ]
  },
  {
   "cell_type": "code",
   "execution_count": null,
   "metadata": {},
   "outputs": [],
   "source": []
  }
 ],
 "metadata": {
  "kernelspec": {
   "display_name": "Python 3",
   "language": "python",
   "name": "python3"
  },
  "language_info": {
   "codemirror_mode": {
    "name": "ipython",
    "version": 3
   },
   "file_extension": ".py",
   "mimetype": "text/x-python",
   "name": "python",
   "nbconvert_exporter": "python",
   "pygments_lexer": "ipython3",
   "version": "3.7.0"
  }
 },
 "nbformat": 4,
 "nbformat_minor": 2
}
